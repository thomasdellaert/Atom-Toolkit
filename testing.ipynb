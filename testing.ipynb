{
 "cells": [
  {
   "cell_type": "code",
   "execution_count": 1,
   "id": "1c8fc476-f664-4a84-96af-a6669fb69701",
   "metadata": {},
   "outputs": [],
   "source": [
    "from src.IO import load_NIST_data, load_transition_data\n",
    "import matplotlib\n",
    "import matplotlib.pyplot as plt\n",
    "import networkx as nx\n",
    "from src import *\n",
    "import src.lineshapes as lineshapes\n",
    "from src.atom import Atom\n",
    "import src.graphers as graphers\n",
    "from pprint import pprint\n",
    "import numpy as np"
   ]
  },
  {
   "cell_type": "code",
   "execution_count": 2,
   "id": "7fe5ccf1-8f50-4bce-b31e-17e1e013798f",
   "metadata": {},
   "outputs": [],
   "source": [
    "def draw_levels(atom, plot_type='norm', **kwargs):\n",
    "    posdict = {l.name: (l.term.J, l.level_Hz) for l in atom.levels.values()}\n",
    "    if plot_type == 'norm':\n",
    "        nx.draw(atom.levelsModel, pos=posdict, node_shape=\"_\", with_labels=True, font_size=8, **kwargs)\n",
    "    elif plot_type == 'hf':\n",
    "        nx.draw(a.hfModel, pos=posdict, node_shape=\"_\", with_labels=True, font_size=8, **kwargs)\n",
    "    elif plot_type == 'z':\n",
    "        nx.draw(a.zModel, pos=posdict, node_shape=\"_\", with_labels=True, font_size=8, **kwargs)\n",
    "    plt.show()\n",
    "\n",
    "\n",
    "def load_atom(species, num_levels=None, save=False, B=Q_(0.0, 'G'), load_from_pickle=False):\n",
    "    if load_from_pickle:\n",
    "        a = Atom.from_pickle(f'atoms/{species}.atom')\n",
    "    else:\n",
    "        df = load_NIST_data(speciesdict[species]['species'])\n",
    "        if 'trans_path' in speciesdict[species]:\n",
    "            trans_df = load_transition_data(speciesdict[species]['trans_path'], columns={\n",
    "                \"conf_l\": \"LConfiguration\", \"conf_u\": \"UConfiguration\",\n",
    "                \"term_l\": \"LTerm\", \"term_u\": \"UTerm\", \"j_l\": \"LJ\", \"j_u\": \"UJ\",\n",
    "                \"A\": \"A DREAM\"}).dropna(subset=['A'])\n",
    "        else:\n",
    "            trans_df = None\n",
    "        a = Atom.generate_full_from_dataframe(df, species, speciesdict[species]['I'],\n",
    "                                              num_levels=num_levels,\n",
    "                                              B=B,\n",
    "                                              hf_csv=f'resources/{species}_Hyperfine.csv',\n",
    "                                              transitions_df=trans_df,\n",
    "                                              allowed=0b101)\n",
    "        if save:\n",
    "            a.to_pickle(f'atoms/{species}.atom')\n",
    "            a.generate_hf_csv(filename=f'resources/{species}_Hyperfine.csv')\n",
    "        print('Generation complete')\n",
    "    return a"
   ]
  },
  {
   "cell_type": "code",
   "execution_count": 3,
   "id": "e096bcb6-965f-4ee7-bd7d-2bbeb0ebb7ab",
   "metadata": {},
   "outputs": [],
   "source": [
    "speciesdict = {\n",
    "    '171Yb': {'species': 'Yb II', 'I': 0.5, 'trans_path': \"./resources/Yb_II_Oscillator_Strengths.csv\"},\n",
    "    '171Yb_2': {'species': 'Yb II', 'I': 0.5},\n",
    "    '173Yb': {'species': 'Yb II', 'I': 2.5, 'trans_path': \"./resources/Yb_II_Oscillator_Strengths.csv\"},\n",
    "    '138Ba': {'species': 'Ba II', 'I': 0.0},\n",
    "    '133Ba': {'species': 'Ba II', 'I': 0.5},\n",
    "    '201Hg': {'species': 'Hg I', 'I': 1.5},\n",
    "    '9Be': {'species': 'Be II', 'I': 1.5}\n",
    "}"
   ]
  },
  {
   "cell_type": "code",
   "execution_count": 4,
   "id": "2d245865-93b8-445b-832a-ef578836d36f",
   "metadata": {},
   "outputs": [
    {
     "name": "stderr",
     "output_type": "stream",
     "text": [
      "data finalized: 100%|████████████████████████████████████████████████████████████████████| 7/7 [00:00<00:00,  8.06it/s]\n",
      "adding level 4f13.(2F*<7/2>).5d.6s.(3D) 3[9/2]*7/2                                                                     \n",
      "adding transition 4f14.5d 2D3/2 → 4f14.6p 2P*1/2                                                                       \n",
      "adding internal transitions to 4f13.(2F*<7/2>).5d.6s.(3D) 3[9/2]*7/2                                                   "
     ]
    },
    {
     "name": "stdout",
     "output_type": "stream",
     "text": [
      "Generation complete\n"
     ]
    },
    {
     "name": "stderr",
     "output_type": "stream",
     "text": [
      "\n"
     ]
    }
   ],
   "source": [
    "# whether to load from pickle\n",
    "load_from_pickle = False\n",
    "# whether to save the ion\n",
    "save = False\n",
    "# Name of the atom\n",
    "species = '173Yb'\n",
    "# Number of levels to generate\n",
    "num_levels = 20\n",
    "# Magnetic field\n",
    "B = Q_(5.0, 'G')\n",
    "\n",
    "a = load_atom(species, load_from_pickle=load_from_pickle, save=save, num_levels=num_levels, B=B)"
   ]
  },
  {
   "cell_type": "code",
   "execution_count": 5,
   "id": "b59e6d96-1f63-4277-903d-3a4989876c2c",
   "metadata": {
    "tags": []
   },
   "outputs": [],
   "source": [
    "# pprint(a.levels.list_names())"
   ]
  },
  {
   "cell_type": "code",
   "execution_count": 6,
   "id": "ec88930f-0feb-495a-959a-e23752b60f38",
   "metadata": {},
   "outputs": [],
   "source": [
    "# pprint(a.transitions.list_names())"
   ]
  },
  {
   "cell_type": "code",
   "execution_count": 7,
   "id": "9b9e3672-dd39-472d-8c25-cbaf07327a28",
   "metadata": {},
   "outputs": [
    {
     "name": "stdout",
     "output_type": "stream",
     "text": [
      "enforcing on ('4f14.5d 2D3/2', '4f13.(2F*<7/2>).5d.6s.(3D) 3[3/2]*1/2')\n",
      "4f14.5d 2D3/2 4f14.5d 2D3/2\n",
      "enforcing on ('4f14.6s 2S1/2', '4f14.6p 2P*1/2')\n",
      "enforcing on ('4f14.6s 2S1/2', '4f14.6p 2P*1/2')\n",
      "4f14.6s 2S1/2 4f14.6s 2S1/2\n"
     ]
    }
   ],
   "source": [
    "a.transitions[('4f14.5d 2D3/2', '4f13.(2F*<7/2>).5d.6s.(3D) 3[3/2]*1/2')].set_frequency(Q_(320.570339, 'THz'))\n",
    "a.transitions[('4f14.6s 2S1/2', '4f14.6p 2P*1/2')].set_frequency(Q_(812.128235, 'THz'))"
   ]
  },
  {
   "cell_type": "code",
   "execution_count": 8,
   "id": "3c64d4a3-91bb-4ebe-ba3c-47d4d9d3c800",
   "metadata": {},
   "outputs": [
    {
     "name": "stdout",
     "output_type": "stream",
     "text": [
      "[('4f14.6s 2S1/2', '4f13.(2F*<7/2>).5d.6s.(3D) 3[3/2]*1/2'), ('4f13.(2F*<7/2>).5d.6s.(3D) 3[3/2]*1/2', '4f14.5d 2D3/2'), ('4f14.5d 2D3/2', '4f13.(2F*<7/2>).5d.6s.(3D) 3[5/2]*3/2'), ('4f13.(2F*<7/2>).5d.6s.(3D) 3[5/2]*3/2', '4f14.5d 2D5/2'), ('4f14.5d 2D5/2', '4f14.6p 2P*3/2'), ('4f14.5d 2D5/2', '4f13.(2F*<7/2>).5d.6s.(3D) 3[3/2]*3/2'), ('4f14.5d 2D3/2', '4f14.6p 2P*1/2')]\n"
     ]
    }
   ],
   "source": [
    "print(list(nx.dfs_edges(a.levelsModel)))"
   ]
  },
  {
   "cell_type": "code",
   "execution_count": 9,
   "id": "98f4958c-b5a9-49b8-b228-5b63179b920e",
   "metadata": {},
   "outputs": [
    {
     "data": {
      "image/png": "[encoded data removed]",
      "text/plain": [
       "<Figure size 432x288 with 1 Axes>"
      ]
     },
     "metadata": {},
     "output_type": "display_data"
    }
   ],
   "source": [
    "nx.draw(a.levelsModel)"
   ]
  },
  {
   "cell_type": "code",
   "execution_count": 10,
   "id": "ef09af0d-1809-4ed4-90a4-6ad58ed42f62",
   "metadata": {},
   "outputs": [
    {
     "name": "stdout",
     "output_type": "stream",
     "text": [
      "[('4f14.6s 2S1/2', '4f13.(2F*<7/2>).5d.6s.(3D) 3[3/2]*1/2'), ('4f14.6s 2S1/2', '4f13.(2F*<7/2>).5d.6s.(3D) 3[5/2]*3/2'), ('4f14.6s 2S1/2', '4f14.6p 2P*3/2'), ('4f14.6s 2S1/2', '4f13.(2F*<7/2>).5d.6s.(3D) 3[3/2]*3/2'), ('4f14.6s 2S1/2', '4f14.6p 2P*1/2'), ('4f14.6s 2S1/2', '4f14.6s 2S1/2'), ('4f13.(2F*).6s2 2F*7/2', '4f13.(2F*).6s2 2F*7/2'), ('4f13.(2F*).6s2 2F*5/2', '4f13.(2F*).6s2 2F*5/2'), ('4f14.5d 2D3/2', '4f13.(2F*<7/2>).5d.6s.(3D) 3[3/2]*1/2'), ('4f14.5d 2D3/2', '4f13.(2F*<7/2>).5d.6s.(3D) 3[5/2]*3/2'), ('4f14.5d 2D3/2', '4f14.6p 2P*3/2'), ('4f14.5d 2D3/2', '4f13.(2F*<7/2>).5d.6s.(3D) 3[3/2]*3/2'), ('4f14.5d 2D3/2', '4f14.6p 2P*1/2'), ('4f14.5d 2D3/2', '4f14.5d 2D3/2'), ('4f14.5d 2D5/2', '4f13.(2F*<7/2>).5d.6s.(3D) 3[5/2]*3/2'), ('4f14.5d 2D5/2', '4f14.6p 2P*3/2'), ('4f14.5d 2D5/2', '4f13.(2F*<7/2>).5d.6s.(3D) 3[3/2]*3/2'), ('4f14.5d 2D5/2', '4f14.5d 2D5/2'), ('4f13.(2F*<7/2>).5d.6s.(3D) 3[3/2]*5/2', '4f13.(2F*<7/2>).5d.6s.(3D) 3[3/2]*5/2'), ('4f13.(2F*<7/2>).5d.6s.(3D) 3[3/2]*3/2', '4f13.(2F*<7/2>).5d.6s.(3D) 3[3/2]*3/2'), ('4f13.(2F*<7/2>).5d.6s.(3D) 3[3/2]*1/2', '4f13.(2F*<7/2>).5d.6s.(3D) 3[3/2]*1/2'), ('4f14.6p 2P*1/2', '4f14.6p 2P*1/2'), ('4f14.6p 2P*3/2', '4f14.6p 2P*3/2'), ('4f13.(2F*<7/2>).5d.6s.(3D) 3[11/2]*9/2', '4f13.(2F*<7/2>).5d.6s.(3D) 3[11/2]*9/2'), ('4f13.(2F*<7/2>).5d.6s.(3D) 3[11/2]*11/2', '4f13.(2F*<7/2>).5d.6s.(3D) 3[11/2]*11/2'), ('4f13.(2F*<7/2>).5d.6s.(3D) 3[11/2]*13/2', '4f13.(2F*<7/2>).5d.6s.(3D) 3[11/2]*13/2'), ('4f13.(2F*<7/2>).5d.6s.(3D) 3[5/2]*7/2', '4f13.(2F*<7/2>).5d.6s.(3D) 3[5/2]*7/2'), ('4f13.(2F*<7/2>).5d.6s.(3D) 3[5/2]*5/2', '4f13.(2F*<7/2>).5d.6s.(3D) 3[5/2]*5/2'), ('4f13.(2F*<7/2>).5d.6s.(3D) 3[5/2]*3/2', '4f13.(2F*<7/2>).5d.6s.(3D) 3[5/2]*3/2'), ('4f13.(2F*<7/2>).5d.6s.(3D) 3[7/2]*9/2', '4f13.(2F*<7/2>).5d.6s.(3D) 3[7/2]*9/2'), ('4f13.(2F*<7/2>).5d.6s.(3D) 3[7/2]*5/2', '4f13.(2F*<7/2>).5d.6s.(3D) 3[7/2]*5/2'), ('4f13.(2F*<7/2>).5d.6s.(3D) 3[7/2]*7/2', '4f13.(2F*<7/2>).5d.6s.(3D) 3[7/2]*7/2'), ('4f13.(2F*<7/2>).5d.6s.(3D) 3[9/2]*7/2', '4f13.(2F*<7/2>).5d.6s.(3D) 3[9/2]*7/2')]\n"
     ]
    }
   ],
   "source": [
    "print(a.levelsModel.edges())"
   ]
  },
  {
   "cell_type": "code",
   "execution_count": 11,
   "id": "35e1e16d-2c29-4dd1-a07f-d7459f2f153d",
   "metadata": {},
   "outputs": [],
   "source": [
    "g = nx.Graph()\n",
    "g.add_nodes_from(zip(range(1, 10), [{'level':i} for i in np.arange(0, 1000, 31)]))\n",
    "g.nodes()\n",
    "g.add_edges_from([(1, 2), (2, 3), (3, 4), (4, 5), (3, 6), (4, 6),(7, 8)])"
   ]
  },
  {
   "cell_type": "code",
   "execution_count": 12,
   "id": "fa948c38-82f9-45ae-94c1-958cb71e8966",
   "metadata": {},
   "outputs": [
    {
     "ename": "TypeError",
     "evalue": "'NoneType' object is not subscriptable",
     "output_type": "error",
     "traceback": [
      "\u001b[1;31m---------------------------------------------------------------------------\u001b[0m",
      "\u001b[1;31mTypeError\u001b[0m                                 Traceback (most recent call last)",
      "\u001b[1;32m<ipython-input-12-e58c7d545850>\u001b[0m in \u001b[0;36m<module>\u001b[1;34m\u001b[0m\n\u001b[1;32m----> 1\u001b[1;33m \u001b[0mprint\u001b[0m\u001b[1;33m(\u001b[0m\u001b[1;32mNone\u001b[0m \u001b[1;32min\u001b[0m \u001b[0ma\u001b[0m\u001b[1;33m.\u001b[0m\u001b[0mlevelsModel\u001b[0m\u001b[1;33m.\u001b[0m\u001b[0medges\u001b[0m\u001b[1;33m(\u001b[0m\u001b[1;33m)\u001b[0m\u001b[1;33m)\u001b[0m\u001b[1;33m\u001b[0m\u001b[1;33m\u001b[0m\u001b[0m\n\u001b[0m",
      "\u001b[1;32m~\\anaconda3\\lib\\site-packages\\networkx\\classes\\reportviews.py\u001b[0m in \u001b[0;36m__contains__\u001b[1;34m(self, e)\u001b[0m\n\u001b[0;32m   1141\u001b[0m     \u001b[1;32mdef\u001b[0m \u001b[0m__contains__\u001b[0m\u001b[1;33m(\u001b[0m\u001b[0mself\u001b[0m\u001b[1;33m,\u001b[0m \u001b[0me\u001b[0m\u001b[1;33m)\u001b[0m\u001b[1;33m:\u001b[0m\u001b[1;33m\u001b[0m\u001b[1;33m\u001b[0m\u001b[0m\n\u001b[0;32m   1142\u001b[0m         \u001b[1;32mtry\u001b[0m\u001b[1;33m:\u001b[0m\u001b[1;33m\u001b[0m\u001b[1;33m\u001b[0m\u001b[0m\n\u001b[1;32m-> 1143\u001b[1;33m             \u001b[0mu\u001b[0m\u001b[1;33m,\u001b[0m \u001b[0mv\u001b[0m \u001b[1;33m=\u001b[0m \u001b[0me\u001b[0m\u001b[1;33m[\u001b[0m\u001b[1;33m:\u001b[0m\u001b[1;36m2\u001b[0m\u001b[1;33m]\u001b[0m\u001b[1;33m\u001b[0m\u001b[1;33m\u001b[0m\u001b[0m\n\u001b[0m\u001b[0;32m   1144\u001b[0m             \u001b[1;32mreturn\u001b[0m \u001b[0mv\u001b[0m \u001b[1;32min\u001b[0m \u001b[0mself\u001b[0m\u001b[1;33m.\u001b[0m\u001b[0m_adjdict\u001b[0m\u001b[1;33m[\u001b[0m\u001b[0mu\u001b[0m\u001b[1;33m]\u001b[0m \u001b[1;32mor\u001b[0m \u001b[0mu\u001b[0m \u001b[1;32min\u001b[0m \u001b[0mself\u001b[0m\u001b[1;33m.\u001b[0m\u001b[0m_adjdict\u001b[0m\u001b[1;33m[\u001b[0m\u001b[0mv\u001b[0m\u001b[1;33m]\u001b[0m\u001b[1;33m\u001b[0m\u001b[1;33m\u001b[0m\u001b[0m\n\u001b[0;32m   1145\u001b[0m         \u001b[1;32mexcept\u001b[0m \u001b[1;33m(\u001b[0m\u001b[0mKeyError\u001b[0m\u001b[1;33m,\u001b[0m \u001b[0mValueError\u001b[0m\u001b[1;33m)\u001b[0m\u001b[1;33m:\u001b[0m\u001b[1;33m\u001b[0m\u001b[1;33m\u001b[0m\u001b[0m\n",
      "\u001b[1;31mTypeError\u001b[0m: 'NoneType' object is not subscriptable"
     ]
    }
   ],
   "source": [
    "print(None in a.levelsModel.edges())"
   ]
  },
  {
   "cell_type": "code",
   "execution_count": 11,
   "id": "df48646d-3c88-4769-948e-014a80c69711",
   "metadata": {},
   "outputs": [
    {
     "data": {
      "image/png": "[encoded data removed]",
      "text/plain": [
       "<Figure size 432x288 with 1 Axes>"
      ]
     },
     "metadata": {},
     "output_type": "display_data"
    }
   ],
   "source": [
    "nx.draw(g)"
   ]
  },
  {
   "cell_type": "code",
   "execution_count": 41,
   "id": "81ba105c-38f5-48c7-a124-1d6c99171260",
   "metadata": {},
   "outputs": [],
   "source": [
    "def enforce(g):\n",
    "    # make a subgraph of the full model containing only the fixed edges\n",
    "    set_graph = g\n",
    "    subgraphs = (set_graph.subgraph(c) for c in nx.connected_components(set_graph))\n",
    "    for sg in subgraphs:\n",
    "        # find the lowest lying level in the subgraph\n",
    "        nodes = sg.nodes(data='level')\n",
    "        l = None\n",
    "        for k, n in nodes:\n",
    "            if l is None:\n",
    "                l, kl = n, k\n",
    "            elif n < l:\n",
    "                l, kl = n, k\n",
    "        # perform a depth first search starting from the lowest energy node in the subgraph,\n",
    "        # setting subsequent levels one at a time\n",
    "        search = nx.bfs_edges(sg, source=kl)\n",
    "        print(list(search))\n",
    "#         for edge in search:\n",
    "#             t = sg.edges()[edge]['transition']\n",
    "#             if t.E_lower.fixed and t.E_upper.fixed and t.set_freq.to(Hz).magnitude != abs(t.E_lower.level_Hz - t.E_upper.level_Hz):\n",
    "#                 raise ValueError('Constraint problem') # TODO: make this a custom error?\n",
    "#             elif t.E_upper.fixed:\n",
    "#                 t.E_lower.level_Hz = t.E_upper.level_Hz - t.set_freq.to(Hz).magnitude\n",
    "#             else:\n",
    "#                 t.E_upper.level_Hz = t.E_lower.level_Hz + t.set_freq.to(Hz).magnitude\n",
    "#             t.E_upper.fixed = t.E_lower.fixed = True\n"
   ]
  },
  {
   "cell_type": "code",
   "execution_count": 42,
   "id": "a2a9d73d-4c36-4e35-aa0f-e3c32c0dcca9",
   "metadata": {},
   "outputs": [
    {
     "name": "stdout",
     "output_type": "stream",
     "text": [
      "[(1, 2), (2, 3), (3, 4), (3, 6), (4, 5)]\n",
      "[(7, 8)]\n",
      "[]\n"
     ]
    }
   ],
   "source": [
    "enforce(g)"
   ]
  },
  {
   "cell_type": "code",
   "execution_count": 20,
   "id": "57e4bd25-e30a-4893-a44c-b6d7796860dd",
   "metadata": {},
   "outputs": [
    {
     "name": "stdout",
     "output_type": "stream",
     "text": [
      "True\n"
     ]
    }
   ],
   "source": [
    "ss='fff'\n",
    "\n",
    "if ss:\n",
    "    print(True)\n",
    "else:\n",
    "    print(False)"
   ]
  },
  {
   "cell_type": "code",
   "execution_count": 25,
   "id": "24058e4e-ae77-4b0c-b4c8-8069c2298ad0",
   "metadata": {},
   "outputs": [
    {
     "name": "stdout",
     "output_type": "stream",
     "text": [
      "[('4f14.6s 2S1/2', '4f13.(2F*<7/2>).5d.6s.(3D) 3[3/2]*1/2'), ('4f14.6s 2S1/2', '4f13.(2F*<7/2>).5d.6s.(3D) 3[5/2]*3/2'), ('4f14.6s 2S1/2', '4f14.6p 2P*3/2'), ('4f14.6s 2S1/2', '4f13.(2F*<7/2>).5d.6s.(3D) 3[3/2]*3/2'), ('4f14.6s 2S1/2', '4f14.6p 2P*1/2'), ('4f14.6s 2S1/2', '4f14.6s 2S1/2'), ('4f13.(2F*).6s2 2F*7/2', '4f13.(2F*).6s2 2F*7/2'), ('4f13.(2F*).6s2 2F*5/2', '4f13.(2F*).6s2 2F*5/2'), ('4f14.5d 2D3/2', '4f13.(2F*<7/2>).5d.6s.(3D) 3[3/2]*1/2'), ('4f14.5d 2D3/2', '4f13.(2F*<7/2>).5d.6s.(3D) 3[5/2]*3/2'), ('4f14.5d 2D3/2', '4f14.6p 2P*3/2'), ('4f14.5d 2D3/2', '4f13.(2F*<7/2>).5d.6s.(3D) 3[3/2]*3/2'), ('4f14.5d 2D3/2', '4f14.6p 2P*1/2'), ('4f14.5d 2D3/2', '4f14.5d 2D3/2'), ('4f14.5d 2D5/2', '4f13.(2F*<7/2>).5d.6s.(3D) 3[5/2]*3/2'), ('4f14.5d 2D5/2', '4f14.6p 2P*3/2'), ('4f14.5d 2D5/2', '4f13.(2F*<7/2>).5d.6s.(3D) 3[3/2]*3/2'), ('4f14.5d 2D5/2', '4f14.5d 2D5/2'), ('4f13.(2F*<7/2>).5d.6s.(3D) 3[3/2]*5/2', '4f13.(2F*<7/2>).5d.6s.(3D) 3[3/2]*5/2'), ('4f13.(2F*<7/2>).5d.6s.(3D) 3[3/2]*3/2', '4f13.(2F*<7/2>).5d.6s.(3D) 3[3/2]*3/2'), ('4f13.(2F*<7/2>).5d.6s.(3D) 3[3/2]*1/2', '4f13.(2F*<7/2>).5d.6s.(3D) 3[3/2]*1/2'), ('4f14.6p 2P*1/2', '4f14.6p 2P*1/2'), ('4f14.6p 2P*3/2', '4f14.6p 2P*3/2'), ('4f13.(2F*<7/2>).5d.6s.(3D) 3[11/2]*9/2', '4f13.(2F*<7/2>).5d.6s.(3D) 3[11/2]*9/2'), ('4f13.(2F*<7/2>).5d.6s.(3D) 3[11/2]*11/2', '4f13.(2F*<7/2>).5d.6s.(3D) 3[11/2]*11/2'), ('4f13.(2F*<7/2>).5d.6s.(3D) 3[11/2]*13/2', '4f13.(2F*<7/2>).5d.6s.(3D) 3[11/2]*13/2'), ('4f13.(2F*<7/2>).5d.6s.(3D) 3[5/2]*7/2', '4f13.(2F*<7/2>).5d.6s.(3D) 3[5/2]*7/2'), ('4f13.(2F*<7/2>).5d.6s.(3D) 3[5/2]*5/2', '4f13.(2F*<7/2>).5d.6s.(3D) 3[5/2]*5/2'), ('4f13.(2F*<7/2>).5d.6s.(3D) 3[5/2]*3/2', '4f13.(2F*<7/2>).5d.6s.(3D) 3[5/2]*3/2'), ('4f13.(2F*<7/2>).5d.6s.(3D) 3[7/2]*9/2', '4f13.(2F*<7/2>).5d.6s.(3D) 3[7/2]*9/2'), ('4f13.(2F*<7/2>).5d.6s.(3D) 3[7/2]*5/2', '4f13.(2F*<7/2>).5d.6s.(3D) 3[7/2]*5/2'), ('4f13.(2F*<7/2>).5d.6s.(3D) 3[7/2]*7/2', '4f13.(2F*<7/2>).5d.6s.(3D) 3[7/2]*7/2'), ('4f13.(2F*<7/2>).5d.6s.(3D) 3[9/2]*7/2', '4f13.(2F*<7/2>).5d.6s.(3D) 3[9/2]*7/2')]\n",
      "4f14.6s 2S1/2 → 4f13.(2F*<7/2>).5d.6s.(3D) 3[3/2]*1/2\n"
     ]
    }
   ],
   "source": [
    "print(list(a.transitions))\n",
    "print(a.transitions[('4f14.6s 2S1/2', '4f13.(2F*<7/2>).5d.6s.(3D) 3[3/2]*1/2')])"
   ]
  },
  {
   "cell_type": "code",
   "execution_count": null,
   "id": "f8ea3af0-1c97-4b93-a41a-2b6569581c14",
   "metadata": {},
   "outputs": [],
   "source": []
  }
 ],
 "metadata": {
  "kernelspec": {
   "display_name": "Python 3 (ipykernel)",
   "language": "python",
   "name": "python3"
  },
  "language_info": {
   "codemirror_mode": {
    "name": "ipython",
    "version": 3
   },
   "file_extension": ".py",
   "mimetype": "text/x-python",
   "name": "python",
   "nbconvert_exporter": "python",
   "pygments_lexer": "ipython3",
   "version": "3.9.5"
  }
 },
 "nbformat": 4,
 "nbformat_minor": 5
}
