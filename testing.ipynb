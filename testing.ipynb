{
 "cells": [
  {
   "cell_type": "code",
   "execution_count": 1,
   "id": "1c8fc476-f664-4a84-96af-a6669fb69701",
   "metadata": {},
   "outputs": [],
   "source": [
    "import matplotlib.pyplot as plt\n",
    "from atomtoolkit import ureg, Q_, util, IO\n",
    "import atomtoolkit.render.lineshapes as lineshapes\n",
    "from atomtoolkit.atom import Atom, Transition\n",
    "from pprint import pprint\n",
    "import numpy as np\n",
    "import pandas as pd"
   ]
  },
  {
   "cell_type": "code",
   "execution_count": 2,
   "id": "2d245865-93b8-445b-832a-ef578836d36f",
   "metadata": {},
   "outputs": [],
   "source": [
    "a = Atom.load('species/Yb_II_173.atom')\n",
    "a.B = Q_(5.0, 'G')"
   ]
  },
  {
   "cell_type": "code",
   "execution_count": 3,
   "id": "b59e6d96-1f63-4277-903d-3a4989876c2c",
   "metadata": {
    "tags": []
   },
   "outputs": [],
   "source": [
    "# pprint(a.levels.list_names())"
   ]
  },
  {
   "cell_type": "code",
   "execution_count": 4,
   "id": "ec88930f-0feb-495a-959a-e23752b60f38",
   "metadata": {},
   "outputs": [],
   "source": [
    "# pprint(a.transitions.list_names())"
   ]
  },
  {
   "cell_type": "code",
   "execution_count": 5,
   "id": "594d8110-38ba-4259-b33d-11ea35202378",
   "metadata": {},
   "outputs": [],
   "source": [
    "#pprint(a.levels[0:10])"
   ]
  },
  {
   "cell_type": "code",
   "execution_count": 6,
   "id": "9b9e3672-dd39-472d-8c25-cbaf07327a28",
   "metadata": {},
   "outputs": [],
   "source": [
    "# t = Transition(a.levels['4f14.6s 2S1/2'], a.levels['4f14.5d 2D5/2'], A=Q_(22, 'Hz'))\n",
    "# t.add_to_atom(a)\n",
    "# t.set_frequency(Q_(729.476090, 'THz'))\n",
    "\n",
    "# a.transitions[('4f14.5d 2D3/2', '4f13.(2F*<7/2>).5d.6s.(3D) 3[3/2]*1/2')].set_frequency(Q_(320.570339, 'THz'))\n",
    "# a.transitions[('4f14.6s 2S1/2', '4f14.6p 2P*1/2')].set_frequency(Q_(812.128235, 'THz'))"
   ]
  },
  {
   "cell_type": "code",
   "execution_count": 7,
   "id": "f8ea3af0-1c97-4b93-a41a-2b6569581c14",
   "metadata": {},
   "outputs": [],
   "source": [
    "#a.compute_branching_ratios('4f14.6p 2P*1/2')"
   ]
  },
  {
   "cell_type": "code",
   "execution_count": 8,
   "id": "18fe1c13-7e73-406d-8c5c-dbe753481a3f",
   "metadata": {},
   "outputs": [],
   "source": [
    "#a.linked_levels('4f14.6p 2P*3/2')"
   ]
  },
  {
   "cell_type": "code",
   "execution_count": 9,
   "id": "58571582-fc73-474f-b85f-07e274df510d",
   "metadata": {},
   "outputs": [],
   "source": [
    "#a.levels['4f13.(2F*).6s2 2F*7/2'].sublevels()"
   ]
  },
  {
   "cell_type": "code",
   "execution_count": 3,
   "id": "ca8eddb1-84c1-4020-bb71-3b1c19c36715",
   "metadata": {},
   "outputs": [
    {
     "data": {
      "text/plain": [
       "<HFLevel(name = 4f14.6s 2S1/2 F=2, level=6120170140.0 hertz, 0 sublevels)>"
      ]
     },
     "execution_count": 3,
     "metadata": {},
     "output_type": "execute_result"
    }
   ],
   "source": [
    "a.levels['4f14.6s 2S1/2 F=2']"
   ]
  },
  {
   "cell_type": "code",
   "execution_count": 4,
   "id": "c005a184-1d19-496d-8f6a-8091402280bd",
   "metadata": {},
   "outputs": [
    {
     "data": {
      "text/html": [
       "80500000.0 hertz"
      ],
      "text/latex": [
       "$80500000.0\\ \\mathrm{hertz}$"
      ],
      "text/plain": [
       "80500000.0 <Unit('hertz')>"
      ]
     },
     "execution_count": 4,
     "metadata": {},
     "output_type": "execute_result"
    }
   ],
   "source": [
    "a.transitions[('4f14.6s 2S1/2', '4f13.(2F*<7/2>).5d2.(3F) 3[3/2]*1/2')].A"
   ]
  },
  {
   "cell_type": "code",
   "execution_count": 5,
   "id": "743384ec-fd15-4203-ab90-180a7675a60b",
   "metadata": {},
   "outputs": [
    {
     "data": {
      "text/html": [
       "2259.7456466625717 nanometer"
      ],
      "text/latex": [
       "$2259.7456466625717\\ \\mathrm{nanometer}$"
      ],
      "text/plain": [
       "2259.7456466625717 <Unit('nanometer')>"
      ]
     },
     "execution_count": 5,
     "metadata": {},
     "output_type": "execute_result"
    }
   ],
   "source": [
    "a.transitions[('4f14.5d 2D5/2', '4f13.(2F*<7/2>).5d.6s.(3D) 3[3/2]*3/2')].wl"
   ]
  },
  {
   "cell_type": "code",
   "execution_count": 6,
   "id": "5a82f82a",
   "metadata": {},
   "outputs": [
    {
     "data": {
      "text/plain": [
       "1.44"
      ]
     },
     "execution_count": 6,
     "metadata": {},
     "output_type": "execute_result"
    }
   ],
   "source": [
    "a.levels['4f13.(2F*<7/2>).5d.6s.(3D) 3[3/2]*3/2'].lande"
   ]
  },
  {
   "cell_type": "code",
   "execution_count": 7,
   "id": "39deafc8-1a82-468d-a233-9301f57c4e71",
   "metadata": {},
   "outputs": [
    {
     "name": "stdout",
     "output_type": "stream",
     "text": [
      "[<Quantity(1.365e+08, 'hertz')>, <Quantity(290000.0, 'hertz')>, <Quantity(1410000.0, 'hertz')>]\n",
      "4.5464437823296576e-08 / hertz\n"
     ]
    }
   ],
   "source": [
    "ts = a.linked_levels('4f14.6p 2P*3/2').values()\n",
    "print([t.A for t in ts if t.E_upper is a.levels['4f14.6p 2P*3/2']])\n",
    "total_A = sum((t.A for t in ts if t.E_upper is a.levels['4f14.6p 2P*3/2']))\n",
    "print(1 / (total_A / (2 * np.pi)))"
   ]
  },
  {
   "cell_type": "code",
   "execution_count": 2,
   "id": "153a2735-78bd-4815-b480-ec3fbfdf83ef",
   "metadata": {},
   "outputs": [
    {
     "name": "stdout",
     "output_type": "stream",
     "text": [
      "   Level (cm-1)          Level (Hz)     J  Lande                   Configuration      Term  Percentage                 Configuration_2    Term_2  Percentage_2\n",
      "0           0.0                 0.0   1/2  1.998                         4f14.6s        2S       100.0                            None                     NaN\n",
      "1      21418.75   642117970978750.0   7/2  1.145                  4f13.(2F*).6s2       2F*        98.0        4f13.(2F*<7/2>).5d2.(1S)   1[7/2]*           1.0\n",
      "2      31568.08   946387229754064.0   5/2  0.862                  4f13.(2F*).6s2       2F*        90.0       4f13.(2F*<7/2>)5d.6s.(3D)   3[7/2]*           7.0\n",
      "3       22960.8   688347466964640.0   3/2  0.802                         4f14.5d        2D       100.0                            None                     NaN\n",
      "4      24332.69   729475694485202.0   5/2  1.202                         4f14.5d        2D       100.0                            None                     NaN\n",
      "5      26759.02   802215237947116.1   5/2  1.570      4f13.(2F*<7/2>).5d.6s.(3D)   3[3/2]*        95.0      4f13.(2F*<7/2>).5d.6s.(3D)   3[5/2]*           2.0\n",
      "6      28757.98   862142551131483.9   3/2  1.440      4f13.(2F*<7/2>).5d.6s.(3D)   3[3/2]*        62.0      4f13.(2F*<7/2>).5d.6s.(1D)   1[3/2]*          27.0\n",
      "7      33653.86  1008917341058788.0   1/2  1.320      4f13.(2F*<7/2>).5d.6s.(3D)   3[3/2]*        77.0      4f13.(2F*<5/2>).5d.6s.(3D)   3[1/2]*          13.0\n",
      "8      27061.82   811292953575355.9   1/2  0.667                         4f14.6p       2P*       100.0                            None                     NaN\n",
      "9      30392.23   911136133580133.9   3/2  1.333                         4f14.6p       2P*       100.0                            None                     NaN\n",
      "10     30224.33   906102618210314.0   9/2  0.935      4f13.(2F*<7/2>).5d.6s.(3D)  3[11/2]*        96.0      4f13.(2F*<7/2>).5d.6s.(3D)   3[9/2]*           2.0\n",
      "11     30562.79   916249393743782.1  11/2  1.112      4f13.(2F*<7/2>).5d.6s.(3D)  3[11/2]*        92.0      4f13.(2F*<7/2>).5d.6s.(1D)  1[11/2]*           4.0\n",
      "12     31631.59   948291211654821.9  13/2  1.230      4f13.(2F*<7/2>).5d.6s.(3D)  3[11/2]*       100.0                            None                     NaN\n",
      "13      31979.9   958733282759420.0   7/2  1.331      4f13.(2F*<7/2>).5d.6s.(3D)   3[5/2]*        69.0      4f13.(2F*<7/2>).5d.6s.(3D)   3[7/2]*          28.0\n",
      "14      32371.1   970461163716380.0   5/2  1.170      4f13.(2F*<7/2>).5d.6s.(3D)   3[5/2]*        66.0      4f13.(2F*<7/2>).5d.6s.(3D)   3[7/2]*          24.0\n",
      "15     32981.59   988763193484821.9   3/2  0.866      4f13.(2F*<7/2>).5d.6s.(3D)   3[5/2]*        85.0      4f13.(2F*<7/2>).5d.6s.(3D)   3[3/2]*          10.0\n",
      "16     33052.29   990882726162882.0   9/2  1.264      4f13.(2F*<7/2>).5d.6s.(3D)   3[7/2]*        71.0      4f13.(2F*<7/2>).5d.6s.(3D)   3[9/2]*          23.0\n",
      "17     34389.76  1030979068043008.0   5/2  1.007      4f13.(2F*<7/2>).5d.6s.(3D)   3[7/2]*        51.0      4f13.(2F*<7/2>).5d.6s.(3D)   3[5/2]*          29.0\n",
      "18      35059.0  1051042378502200.0   7/2  1.124      4f13.(2F*<7/2>).5d.6s.(3D)   3[7/2]*        56.0      4f13.(2F*<7/2>).5d.6s.(3D)   3[9/2]*          26.0\n",
      "19     33494.68  1004145244712344.0   7/2  0.991      4f13.(2F*<7/2>).5d.6s.(3D)   3[9/2]*        65.0      4f13.(2F*<7/2>).5d.6s.(3D)   3[7/2]*          15.0\n",
      "20     35019.13  1049847105972153.9   9/2  1.158      4f13.(2F*<7/2>).5d.6s.(3D)   3[9/2]*        67.0      4f13.(2F*<7/2>).5d.6s.(3D)   3[7/2]*          27.0\n",
      "21     35831.68  1074206742146944.0  11/2  1.214      4f13.(2F*<7/2>).5d.6s.(3D)   3[9/2]*        77.0      4f13.(2F*<7/2>).5d.6s.(1D)  1[11/2]*          20.0\n",
      "22     34575.37  1036543515855946.1   3/2  1.434      4f13.(2F*<7/2>).5d.6s.(1D)   1[3/2]*        53.0      4f13.(2F*<5/2>).5d.6s.(3D)   3[1/2]*          27.0\n",
      "23     34784.95  1042826566190709.9  11/2  1.119      4f13.(2F*<7/2>).5d.6s.(1D)  1[11/2]*        70.0      4f13.(2F*<7/2>).5d.6s.(3D)   3[9/2]*          18.0\n",
      "24     37077.59  1111558184281621.9   5/2  1.113      4f13.(2F*<7/2>).5d.6s.(1D)   1[5/2]*        74.0      4f13.(2F*<7/2>).5d.6s.(3D)   3[7/2]*          17.0\n",
      "25     37516.59  1124719073187821.9   7/2  1.119      4f13.(2F*<7/2>).5d.6s.(1D)   1[7/2]*        80.0        4f13.(2F*<7/2>).5d2.(1D)   1[7/2]*           9.0\n",
      "26     38342.02  1149464842048516.0   9/2  1.093      4f13.(2F*<7/2>).5d.6s.(1D)   1[9/2]*        81.0        4f13.(2F*<7/2>).5d2.(1D)   1[9/2]*          11.0\n",
      "27     39378.89  1180549422641162.0   1/2  1.850      4f13.(2F*<5/2>).5d.6s.(3D)   3[1/2]*        80.0      4f13.(2F*<5/2>).5d.6s.(1D)   1[1/2]*          13.0\n",
      "28     40035.82  1200243688584556.0   7/2  0.720      4f13.(2F*<5/2>).5d.6s.(3D)   3[9/2]*        94.0      4f13.(2F*<7/2>).5d.6s.(3D)   3[9/2]*           4.0\n",
      "29     40917.91  1226688081512278.0   9/2  0.967      4f13.(2F*<5/2>).5d.6s.(3D)   3[9/2]*        87.0      4f13.(2F*<5/2>).5d.6s.(1D)   1[9/2]*           8.0\n",
      "30     42915.13  1286563230808954.0  11/2  1.115      4f13.(2F*<5/2>).5d.6s.(3D)   3[9/2]*        98.0      4f13.(2F*<7/2>).5d.6s.(3D)   3[9/2]*           1.0\n",
      "31     41678.73  1249496891301834.0   5/2  1.193      4f13.(2F*<5/2>).5d.6s.(3D)   3[3/2]*        68.0      4f13.(2F*<5/2>).5d.6s.(3D)   3[5/2]*          26.0\n",
      "32     41688.45  1249788289571010.0   3/2  0.784      4f13.(2F*<5/2>).5d.6s.(3D)   3[3/2]*        46.0      4f13.(2F*<5/2>).5d.6s.(3D)   3[5/2]*          47.0\n",
      "33     43007.79  1289341107724782.0   1/2  0.150      4f13.(2F*<5/2>).5d.6s.(3D)   3[3/2]*        91.0      4f13.(2F*<5/2>).5d.6s.(1D)   1[1/2]*           9.0\n",
      "34     43075.09  1291358710967122.0   3/2  0.960      4f13.(2F*<5/2>).5d.6s.(3D)   3[5/2]*        43.0      4f13.(2F*<5/2>).5d.6s.(3D)   3[3/2]*          34.0\n",
      "35     43956.41  1317780019875578.0   5/2  0.990      4f13.(2F*<5/2>).5d.6s.(3D)   3[5/2]*        46.0      4f13.(2F*<5/2>).5d.6s.(3D)   3[7/2]*          33.0\n",
      "36     44438.03  1332218624237774.0   7/2  1.100      4f13.(2F*<5/2>).5d.6s.(3D)   3[5/2]*        53.0      4f13.(2F*<5/2>).5d.6s.(3D)   3[7/2]*          40.0\n",
      "37     44497.51  1334001789777958.0   5/2  0.734      4f13.(2F*<5/2>).5d.6s.(3D)   3[7/2]*        63.0      4f13.(2F*<5/2>).5d.6s.(3D)   3[5/2]*          22.0\n",
      "38     45429.82  1361951740429756.0   7/2  1.150      4f13.(2F*<5/2>).5d.6s.(3D)   3[7/2]*        48.0      4f13.(2F*<5/2>).5d.6s.(3D)   3[5/2]*          41.0\n",
      "39     46169.78  1384135183151924.0   9/2  1.100      4f13.(2F*<5/2>).5d.6s.(3D)   3[7/2]*        77.0      4f13.(2F*<5/2>).5d.6s.(1D)   1[9/2]*          20.0\n",
      "40     44940.61  1347285593591938.0   3/2  1.244      4f13.(2F*<5/2>).5d.6s.(3D)   3[1/2]*        29.0        4f13.(2F*<7/2>).5d2.(3F)   3[3/2]*          17.0\n",
      "41     45012.79  1349449495553782.0   5/2  1.281        4f13.(2F*<7/2>).5d2.(3F)   3[5/2]*        48.0        4f13.(2F*<7/2>).5d2.(3F)   3[3/2]*          34.0\n",
      "42     45273.02  1357250994688316.0   7/2  1.180        4f13.(2F*<7/2>).5d2.(3F)   3[7/2]*        34.0        4f13.(2F*<7/2>).5d2.(3F)   3[5/2]*          34.0\n",
      "43     45335.03  1359110007720374.0   9/2  1.010      4f13.(2F*<5/2>).5d.6s.(1D)   1[9/2]*        65.0      4f13.(2F*<5/2>).5d.6s.(3D)   3[7/2]*          20.0\n",
      "44     45737.29  1371169459135882.0   3/2  1.333        4f13.(2F*<7/2>).5d2.(3F)   3[3/2]*        34.0        4f13.(2F*<7/2>).5d2.(3F)   3[1/2]*          22.0\n",
      "45     46354.55  1389674448398390.0   9/2  1.290        4f13.(2F*<7/2>).5d2.(3F)   3[7/2]*        54.0        4f13.(2F*<7/2>).5d2.(3P)   3[7/2]*          28.0\n",
      "46     46547.72  1395465539309576.0  11/2  0.970        4f13.(2F*<7/2>).5d2.(3F)  3[13/2]*        82.0        4f13.(2F*<7/2>).5d2.(3F)  3[11/2]*          14.0\n",
      "47      47680.4  1429422431442320.0  13/2  1.120        4f13.(2F*<7/2>).5d2.(3F)  3[13/2]*        85.0        4f13.(2F*<7/2>).5d2.(3F)  3[11/2]*          15.0\n",
      "48      48923.3  1466683636047140.0  15/2  1.200        4f13.(2F*<7/2>).5d2.(3F)  3[13/2]*        96.0        4f13.(2F*<7/2>).5d2.(1G)  1[15/2]*           4.0\n",
      "49     46902.71  1406107871776118.0   1/2  1.300        4f13.(2F*<7/2>).5d2.(3F)   3[3/2]*        48.0        4f13.(2F*<7/2>).5d2.(3F)   3[1/2]*          24.0\n",
      "50     47005.46  1409188239282068.0   3/2  0.990      4f13.(2F*<5/2>).5d.6s.(1D)   1[3/2]*        77.0      4f13.(2F*<5/2>).5d.6s.(3D)   3[1/2]*           8.0\n",
      "51     47228.96  1415888600718367.8   1/2  0.740      4f13.(2F*<5/2>).5d.6s.(1D)   1[1/2]*        50.0      4f13.(2F*<7/2>).5d.6s.(3D)   3[3/2]*          14.0\n",
      "52     47329.44  1418900915336352.0   5/2  0.990      4f13.(2F*<5/2>).5d.6s.(1D)   1[5/2]*        58.0        4f13.(2F*<7/2>).5d2.(3F)   3[3/2]*          12.0\n",
      "53     47663.52  1428916381773216.0   9/2  0.980        4f13.(2F*<7/2>).5d2.(3F)  3[11/2]*        62.0        4f13.(2F*<7/2>).5d2.(3F)   3[9/2]*          19.0\n",
      "54     48503.82  1454107942018956.0  11/2  1.100        4f13.(2F*<7/2>).5d2.(3F)  3[11/2]*        54.0        4f13.(2F*<7/2>).5d2.(3F)   3[9/2]*          28.0\n",
      "55     49727.19  1490783651953302.0  13/2  1.200        4f13.(2F*<7/2>).5d2.(3F)  3[11/2]*        84.0        4f13.(2F*<7/2>).5d2.(3F)  3[13/2]*          15.0\n",
      "56     47758.54  1431765009709132.0   7/2  1.080        4f13.(2F*<7/2>).5d2.(3F)   3[9/2]*        41.0        4f13.(2F*<7/2>).5d2.(3F)   3[5/2]*          38.0\n",
      "57     47912.31  1436374918335798.0   7/2  1.280  4f13.(2F*<7/2>).6s.6p.(3P*<0>)   (7/2,0)        85.0  4f13.(2F*<7/2>).6s.6p.(3P*<1>)  (7/2, 1)          10.0\n",
      "58      48024.7  1439744285771260.0   3/2  1.380        4f13.(2F*<7/2>).5d2.(3F)   3[1/2]*        53.0        4f13.(2F*<7/2>).5d2.(3F)   3[5/2]*          30.0\n",
      "59     49419.13  1481548245492154.0   1/2  1.410        4f13.(2F*<7/2>).5d2.(3F)   3[1/2]*        67.0        4f13.(2F*<7/2>).5d2.(3D)   3[3/2]*          22.0\n"
     ]
    }
   ],
   "source": [
    "pd.set_option('display.width', 1000)\n",
    "df = IO.load_NIST_data('yb II')\n",
    "print(df.head(60))"
   ]
  },
  {
   "cell_type": "code",
   "execution_count": 3,
   "id": "f0daff6e-270d-4778-9faf-bf1c2f6ef24d",
   "metadata": {},
   "outputs": [
    {
     "name": "stdout",
     "output_type": "stream",
     "text": [
      "Li I succeeded!\n",
      "    Level (cm-1)          Level (Hz)    J  Lande Configuration Term  Percentage Configuration_2 Term_2  Percentage_2\n",
      "64      43105.42  1292267981492236.0  3/2    NaN       1s2.17p  2P*       100.0            None                  NaN\n",
      "78      43296.03  1297982325534174.0  1/2    NaN       1s2.24p  2P*       100.0            None                  NaN\n",
      "5       30925.38   927119568478404.1  1/2    NaN        1s2.3p  2P*       100.0            None                  NaN\n",
      "26      40437.32  1212280355773256.0  5/2    NaN        1s2.6d   2D       100.0            None                  NaN\n",
      "109      43412.4  1301471010367920.0  1/2    NaN       1s2.39p  2P*       100.0            None                  NaN\n",
      "Na I succeeded!\n",
      "    Level (cm-1)          Level (Hz)    J  Lande Configuration Term  Percentage Configuration_2 Term_2  Percentage_2\n",
      "51     39734.678  1191215678545852.5  7/2    NaN        2p6.8g   2G       100.0            None                  NaN\n",
      "78     40383.097  1210654791128242.8  3/2    NaN       2p6.11p  2P*       100.0            None                  NaN\n",
      "156    41145.463  1233509948831805.5  7/2    NaN       2p6.19g   2G       100.0            None                  NaN\n",
      "60      40094.19  1201993577161902.0  5/2    NaN        2p6.9f  2F*       100.0            None                  NaN\n",
      "93     40687.352  1219776126559121.5  7/2    NaN       2p6.12g   2G       100.0            None                  NaN\n",
      "K I succeeded!\n",
      "    Level (cm-1)          Level (Hz)    J  Lande Configuration Term  Percentage Configuration_2 Term_2  Percentage_2\n",
      "4       21534.68   645593464944344.0  5/2    NaN        3p6.3d   2D       100.0            None                  NaN\n",
      "141   34886.3999  1045867957679195.4  1/2    NaN       3p6.32s   2S       100.0            None                  NaN\n",
      "144   34894.2785  1046104152165155.2  1/2    NaN       3p6.33s   2S       100.0            None                  NaN\n",
      "71    34282.6573  1027768209873864.2  1/2    NaN       3p6.14p  2P*       100.0            None                  NaN\n",
      "29      32227.44   966154345264752.0  1/2    NaN        3p6.8p  2P*       100.0            None                  NaN\n",
      "Rb I succeeded!\n",
      "    Level (cm-1)          Level (Hz)    J  Lande Configuration Term  Percentage Configuration_2 Term_2  Percentage_2\n",
      "6      23715.081   710960242465909.8  1/2    NaN        4p6.6p  2P*       100.0            None                  NaN\n",
      "215     33666.78  1009304672914524.0  3/2    NaN       4p6.70p  2P*       100.0            None                  NaN\n",
      "38     31821.855   953995212856958.9  3/2    NaN        4p6.9d   2D       100.0            None                  NaN\n",
      "132      33627.7  1008133083988659.9  5/2    NaN       4p6.43d   2D       100.0            None                  NaN\n",
      "95      33586.11  1006886247155838.0  1/2    NaN       4p6.35p  2P*       100.0            None                  NaN\n",
      "Cs I succeeded!\n",
      "    Level (cm-1)         Level (Hz)    J  Lande Configuration Term  Percentage Configuration_2 Term_2  Percentage_2\n",
      "89   30753.89018  921978433012426.2  7/2    NaN       5p6.13f  2F*       100.0            None                  NaN\n",
      "143  31118.86983  932920247651774.2  5/2    NaN       5p6.22d   2D       100.0            None                  NaN\n",
      "7      21946.397  657936430087382.6  3/2    NaN        5p6.7p  2P*       100.0            None                  NaN\n",
      "91   30756.46241  922055546527850.5  7/2    NaN       5p6.13g   2G       100.0            None                  NaN\n",
      "127  31049.51701  930841102414071.1  5/2    NaN       5p6.20d   2D       100.0            None                  NaN\n",
      "Fr I succeeded!\n",
      "   Level (cm-1)         Level (Hz)    J  Lande Configuration Term  Percentage Configuration_2 Term_2  Percentage_2\n",
      "58    32253.449  966934075468764.2  3/2    NaN           17d   2D       100.0            None                  NaN\n",
      "4      16429.64  492548215965512.0  5/2    NaN            6d   2D       100.0            None                  NaN\n",
      "80     32493.64  974134820496711.9  3/2    NaN           21d   2D       100.0            None                  NaN\n",
      "42     31852.65  954918423731370.0  3/2    NaN           15p  2P*       100.0            None                  NaN\n",
      "16     29064.18  871322196195444.0  1/2    NaN           10p  2P*       100.0            None                  NaN\n",
      "Be II succeeded!\n",
      "   Level (cm-1)          Level (Hz)     J  Lande Configuration Term  Percentage Configuration_2 Term_2  Percentage_2\n",
      "4      96495.36  2892858115999488.0   1/2    NaN        1s2.3p  2P*       100.0            None                  NaN\n",
      "5     96497.288  2892915915985390.5   3/2    NaN        1s2.3p  2P*       100.0            None                  NaN\n",
      "76     142493.6  4271850659326880.0  11/2    NaN       1s2.10h  2H*       100.0            None                  NaN\n",
      "14    119446.72  3580922578883776.0   7/2    NaN        1s2.4f  2F*       100.0            None                  NaN\n",
      "6      98054.57  2939602055843306.0   3/2    NaN        1s2.3d   2D       100.0            None                  NaN\n",
      "Mg II succeeded!\n",
      "   Level (cm-1)          Level (Hz)      J  Lande Configuration Term  Percentage Configuration_2 Term_2  Percentage_2\n",
      "28    109062.35  3269606998175630.5    7/2    NaN        2p6.6f  2F*       100.0            None                  NaN\n",
      "21    103705.66  3109017471991228.5    9/2    NaN        2p6.5g   2G       100.0            None                  NaN\n",
      "33    110203.58  3303820212859964.5    1/2    NaN        2p6.7p  2P*       100.0            None                  NaN\n",
      "17     103420.0  3100453600636000.5    3/2    NaN        2p6.5d   2D       100.0            None                  NaN\n",
      "60    114409.02  3429896132317115.5   13/2    NaN        2p6.8i   2I       100.0            None                  NaN\n",
      "Ca II succeeded!\n",
      "   Level (cm-1)          Level (Hz)    J  Lande Configuration Term  Percentage Configuration_2 Term_2  Percentage_2\n",
      "65      93626.9  2806863848592020.0  3/2    NaN       3p6.15d   2D       100.0            None                  NaN\n",
      "7      56858.46  1704573748149468.0  5/2    NaN        3p6.4d   2D       100.0            None                  NaN\n",
      "19     78164.72  2343319353768176.0  9/2    NaN        3p6.5g   2G       100.0            None                  NaN\n",
      "12     70677.62  2118861742538995.8  1/2    NaN        3p6.6s   2S       100.0            None                  NaN\n",
      "61      92883.0  2784562287641400.0  5/2    NaN       3p6.13d   2D       100.0            None                  NaN\n",
      "Sr II succeeded!\n",
      "   Level (cm-1)          Level (Hz)    J  Lande Configuration Term  Percentage Configuration_2 Term_2  Percentage_2\n",
      "27      76737.7  2300538370426660.0  7/2    NaN        4p6.6g   2G       100.0            None                  NaN\n",
      "1       14555.9  436374903940219.94  3/2    NaN        4p6.4d   2D       100.0            None                  NaN\n",
      "8       55769.7  1671933544492260.0  1/2    NaN        4p6.6p  2P*       100.0            None                  NaN\n",
      "39      82005.9  2458475033150220.0  5/2    NaN        4p6.8f  2F*       100.0            None                  NaN\n",
      "0           0.0                 0.0  1/2    NaN        4p6.5s   2S       100.0            None                  NaN\n",
      "Ba II succeeded!\n",
      "    Level (cm-1)          Level (Hz)    J  Lande Configuration Term  Percentage Configuration_2 Term_2  Percentage_2\n",
      "41      72705.28  2179649460077824.0  1/2    NaN           11s   2S       100.0            None                  NaN\n",
      "137     80391.94  2410089729598852.0  5/2    NaN           41d   2D       100.0            None                  NaN\n",
      "147     80432.86  2411316480336988.0  5/2    NaN           44d   2D       100.0            None                  NaN\n",
      "156     80465.79  2412303696901182.0  3/2    NaN           47d   2D       100.0            None                  NaN\n",
      "58       75459.0  2262203908822200.0  7/2    NaN           10f  2F*       100.0            None                  NaN\n",
      "Yb II succeeded!\n",
      "    Level (cm-1)          Level (Hz)     J  Lande                   Configuration      Term  Percentage                 Configuration_2    Term_2  Percentage_2\n",
      "311     93242.39  2795336528789462.0  11/2    NaN                                                 100.0                            None                     NaN\n",
      "48       48923.3  1466683636047140.0  15/2  1.200        4f13.(2F*<7/2>).5d2.(3F)  3[13/2]*        96.0        4f13.(2F*<7/2>).5d2.(1G)  1[15/2]*           4.0\n",
      "206     74270.48  2226572975603984.0   5/2  0.920  4f13.(2F*<5/2>).5d.6p.(3F*<3>)   (5/2,3)        72.0  4f13.(2F*<5/2>).5d.6p.(3D*<3>)  (5/2, 3)           7.0\n",
      "221     75058.11  2250185528973438.0   5/2  0.760  4f13.(2F*<5/2>).5d.6p.(3D*<1>)   (5/2,1)        53.0  4f13.(2F*<5/2>).5d.6p.(3F*<2>)  (5/2, 2)           8.0\n",
      "133     61822.58  1853394321810164.2   7/2  1.327  4f13.(2F*<7/2>).5d.6p.(3D*<2>)   (7/2,2)        23.0  4f13.(2F*<7/2>).5d.6p.(3D*<2>)  (7/2, 2)          13.0\n",
      "Ra II succeeded!\n",
      "   Level (cm-1)          Level (Hz)    J  Lande Configuration Term  Percentage Configuration_2 Term_2  Percentage_2\n",
      "9      49272.14  1477141596152012.0  7/2    NaN            5f  2F*       100.0            None                  NaN\n",
      "24     68394.87  2050426619189045.8  5/2    NaN            9d   2D       100.0            None                  NaN\n",
      "25     69560.68  2085376723735143.8  7/2    NaN            6g   2G       100.0            None                  NaN\n",
      "23     68264.07  2046505333838406.2  3/2    NaN            9d   2D       100.0            None                  NaN\n",
      "39      77431.2  2321328977388960.0  7/2    NaN           10g   2G       100.0            None                  NaN\n",
      "Hg II succeeded!\n",
      "   Level (cm-1)          Level (Hz)    J  Lande Configuration                    Term  Percentage Configuration_2            Term_2  Percentage_2\n",
      "55   139044.521  4168449872202262.0  7/2    NaN       5d10.6g                      2G       100.0            None                             NaN\n",
      "76   145246.433  4354378516480231.0  1/2    NaN     5d9.6s.6d  [(2D<5/2>,1/2)<3>,5/2]       100.0            None                             NaN\n",
      "1     35514.624  1064701642390579.2  5/2    NaN       5d9.6s2                      2D       100.0            None                             NaN\n",
      "13    96187.932  2883641656421685.5  1/2    NaN     5d9.6s.6p        (2D<5/2>,3P<2>)*        64.0       5d9.6s.6p  (2D<3/2>,3P<1>)*          22.0\n",
      "54   140137.134  4201205585893537.0  5/2    NaN     5d9.6s.7s  [(2D<5/2>,1/2)<2>,1/2]       100.0            None                             NaN\n",
      "Zn II succeeded!\n",
      "   Level (cm-1)          Level (Hz)    J  Lande Configuration Term  Percentage Configuration_2 Term_2  Percentage_2\n",
      "31    117993.61  3537359437019338.0  5/2    NaN       3d10.5d   2D       100.0            None                  NaN\n",
      "59     135889.9  4073876713837420.0  7/2    NaN       3d10.7f  2F*       100.0            None                  NaN\n",
      "0           0.0                 0.0  1/2    NaN       3d10.4s   2S       100.0            None                  NaN\n",
      "32    119888.51  3594167109885758.0  1/2    NaN       3d10.6p  2P*       100.0            None                  NaN\n",
      "67     138003.3  4137234851911139.5  5/2    NaN       3d10.8f  2F*       100.0            None                  NaN\n",
      "Al II succeeded!\n",
      "    Level (cm-1)          Level (Hz)  J  Lande Configuration Term  Percentage Configuration_2 Term_2  Percentage_2\n",
      "103     144992.2  4346756802882760.5  4    NaN         3s.8h  3H*       100.0            None                  NaN\n",
      "126     146416.9  4389468234374020.0  5    NaN         3s.9g   3G       100.0            None                  NaN\n",
      "198     149751.2  4489428033644960.5  1    NaN        3s.16p  1P*       100.0            None                  NaN\n",
      "150     147467.0  4420949440388600.0  4    NaN        3s.10h  3H*       100.0            None                  NaN\n",
      "83      142851.6  4282583229323280.0  4    NaN         3s.7g   1G       100.0            None                  NaN\n"
     ]
    }
   ],
   "source": [
    "import time\n",
    "for s in ['Li I', 'Na I', 'K I', 'Rb I', 'Cs I', 'Fr I', 'Be II', 'Mg II', 'Ca II', 'Sr II', 'Ba II', 'Yb II', 'Ra II','Hg II', 'Zn II', 'Al II']:\n",
    "    time.sleep(1)\n",
    "    try: \n",
    "        t = IO.load_NIST_data(s)\n",
    "        print(f'{s} succeeded!')\n",
    "        print(t.sample(5))\n",
    "    except Exception as e: \n",
    "        print(f'error in {s}: {e}')"
   ]
  },
  {
   "cell_type": "code",
   "execution_count": null,
   "id": "8be728aa-6476-4bbe-9822-53dd33277992",
   "metadata": {},
   "outputs": [],
   "source": []
  }
 ],
 "metadata": {
  "kernelspec": {
   "display_name": "Python 3 (ipykernel)",
   "language": "python",
   "name": "python3"
  },
  "language_info": {
   "codemirror_mode": {
    "name": "ipython",
    "version": 3
   },
   "file_extension": ".py",
   "mimetype": "text/x-python",
   "name": "python",
   "nbconvert_exporter": "python",
   "pygments_lexer": "ipython3",
   "version": "3.8.9"
  }
 },
 "nbformat": 4,
 "nbformat_minor": 5
}
