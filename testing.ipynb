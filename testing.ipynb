{
 "cells": [
  {
   "cell_type": "code",
   "execution_count": 1,
   "id": "1c8fc476-f664-4a84-96af-a6669fb69701",
   "metadata": {},
   "outputs": [],
   "source": [
    "import matplotlib.pyplot as plt\n",
    "from atomtoolkit import *\n",
    "from atomtoolkit import IO\n",
    "import atomtoolkit.render.lineshapes as lineshapes\n",
    "from atomtoolkit.atom import Atom\n",
    "import atomtoolkit.render.spectra as spectra\n",
    "from atomtoolkit.render.grotrian import draw_levels\n",
    "from pprint import pprint\n",
    "import numpy as np"
   ]
  },
  {
   "cell_type": "code",
   "execution_count": 2,
   "id": "7fe5ccf1-8f50-4bce-b31e-17e1e013798f",
   "metadata": {},
   "outputs": [],
   "source": [
    "resource_path = 'C:/Users/jippi/PycharmProjects/Atom-Toolkit/resources'\n",
    "\n",
    "def load_atom(species, num_levels=None, save=False, B=Q_(0.0, 'G'), load=False):\n",
    "    if load:\n",
    "        a = Atom.load(f'atoms/{species}.atom')\n",
    "    else:\n",
    "        df = IO.load_NIST_data(speciesdict[species]['species'])\n",
    "        display(df)\n",
    "        if 'trans_path' in speciesdict[species]:\n",
    "            trans_df = IO.load_transition_data(speciesdict[species]['trans_path'], columns={\n",
    "                \"conf_l\": \"LConfiguration\", \"conf_u\": \"UConfiguration\",\n",
    "                \"term_l\": \"LTerm\", \"term_u\": \"UTerm\", \"j_l\": \"LJ\", \"j_u\": \"UJ\",\n",
    "                \"A\": \"A DREAM\"}).dropna(subset=['A'])\n",
    "        else:\n",
    "            trans_df = None\n",
    "        a = IO.generate_full_from_dataframe(df, species, speciesdict[species]['I'],\n",
    "                                            num_levels=num_levels,\n",
    "                                            B=B,\n",
    "                                            hf_csv=f'{resource_path}/{species}_Hyperfine.csv',\n",
    "                                            transitions_df=trans_df,\n",
    "                                            allowed=0b101)\n",
    "        if save:\n",
    "            a.save(f'atoms/{species}.atom')\n",
    "            a.generate_hf_csv(filename=f'{resource_path}/{species}_Hyperfine.csv')\n",
    "        print('Generation complete')\n",
    "    return a"
   ]
  },
  {
   "cell_type": "code",
   "execution_count": 3,
   "id": "e096bcb6-965f-4ee7-bd7d-2bbeb0ebb7ab",
   "metadata": {},
   "outputs": [],
   "source": [
    "speciesdict = {\n",
    "    '171Yb': {'species': 'Yb II', 'I': 0.5, 'trans_path': f\"{resource_path}/Yb_II_Oscillator_Strengths.csv\"},\n",
    "    '171Yb_2': {'species': 'Yb II', 'I': 0.5},\n",
    "    '173Yb': {'species': 'Yb II', 'I': 2.5, 'trans_path': f\"{resource_path}/Yb_II_Oscillator_Strengths.csv\"},\n",
    "    '138Ba': {'species': 'Ba II', 'I': 0.0},\n",
    "    '133Ba': {'species': 'Ba II', 'I': 0.5},\n",
    "    '201Hg': {'species': 'Hg I', 'I': 1.5},\n",
    "    '9Be': {'species': 'Be II', 'I': 1.5}\n",
    "}"
   ]
  },
  {
   "cell_type": "code",
   "execution_count": 4,
   "id": "2d245865-93b8-445b-832a-ef578836d36f",
   "metadata": {},
   "outputs": [
    {
     "name": "stderr",
     "output_type": "stream",
     "text": [
      "data finalized: 100%|████████████████████████████████████████████████████████████████████| 7/7 [00:01<00:00,  6.71it/s]\n"
     ]
    },
    {
     "data": {
      "text/html": [
       "<div>\n",
       "<style scoped>\n",
       "    .dataframe tbody tr th:only-of-type {\n",
       "        vertical-align: middle;\n",
       "    }\n",
       "\n",
       "    .dataframe tbody tr th {\n",
       "        vertical-align: top;\n",
       "    }\n",
       "\n",
       "    .dataframe thead th {\n",
       "        text-align: right;\n",
       "    }\n",
       "</style>\n",
       "<table border=\"1\" class=\"dataframe\">\n",
       "  <thead>\n",
       "    <tr style=\"text-align: right;\">\n",
       "      <th></th>\n",
       "      <th>Configuration</th>\n",
       "      <th>Term</th>\n",
       "      <th>J</th>\n",
       "      <th>Level (cm-1)</th>\n",
       "      <th>Lande</th>\n",
       "      <th>Percentage</th>\n",
       "      <th>Percentage_2</th>\n",
       "      <th>Configuration_2</th>\n",
       "      <th>Term_2</th>\n",
       "      <th>Level (Hz)</th>\n",
       "    </tr>\n",
       "  </thead>\n",
       "  <tbody>\n",
       "    <tr>\n",
       "      <th>0</th>\n",
       "      <td>4f14.6s</td>\n",
       "      <td>2S</td>\n",
       "      <td>1/2</td>\n",
       "      <td>0.0</td>\n",
       "      <td>1.998</td>\n",
       "      <td>100.0</td>\n",
       "      <td>NaN</td>\n",
       "      <td>None</td>\n",
       "      <td>NaN</td>\n",
       "      <td>0.0</td>\n",
       "    </tr>\n",
       "    <tr>\n",
       "      <th>1</th>\n",
       "      <td>4f13.(2F*).6s2</td>\n",
       "      <td>2F*</td>\n",
       "      <td>7/2</td>\n",
       "      <td>21418.75</td>\n",
       "      <td>1.145</td>\n",
       "      <td>98.0</td>\n",
       "      <td>1.0</td>\n",
       "      <td>4f13.(2F*&lt;7/2&gt;).5d2.(1S)</td>\n",
       "      <td>1[7/2]*</td>\n",
       "      <td>642117970978750.0</td>\n",
       "    </tr>\n",
       "    <tr>\n",
       "      <th>2</th>\n",
       "      <td>4f13.(2F*).6s2</td>\n",
       "      <td>2F*</td>\n",
       "      <td>5/2</td>\n",
       "      <td>31568.08</td>\n",
       "      <td>0.862</td>\n",
       "      <td>90.0</td>\n",
       "      <td>7.0</td>\n",
       "      <td>4f13.(2F*&lt;7/2&gt;)5d.6s.(3D)</td>\n",
       "      <td>3[7/2]*</td>\n",
       "      <td>946387229754064.0</td>\n",
       "    </tr>\n",
       "    <tr>\n",
       "      <th>3</th>\n",
       "      <td>4f14.5d</td>\n",
       "      <td>2D</td>\n",
       "      <td>3/2</td>\n",
       "      <td>22960.8</td>\n",
       "      <td>1.802</td>\n",
       "      <td>100.0</td>\n",
       "      <td>NaN</td>\n",
       "      <td>None</td>\n",
       "      <td>NaN</td>\n",
       "      <td>688347466964640.0</td>\n",
       "    </tr>\n",
       "    <tr>\n",
       "      <th>4</th>\n",
       "      <td>4f14.5d</td>\n",
       "      <td>2D</td>\n",
       "      <td>5/2</td>\n",
       "      <td>24332.69</td>\n",
       "      <td>1.202</td>\n",
       "      <td>100.0</td>\n",
       "      <td>NaN</td>\n",
       "      <td>None</td>\n",
       "      <td>NaN</td>\n",
       "      <td>729475694485202.0</td>\n",
       "    </tr>\n",
       "    <tr>\n",
       "      <th>...</th>\n",
       "      <td>...</td>\n",
       "      <td>...</td>\n",
       "      <td>...</td>\n",
       "      <td>...</td>\n",
       "      <td>...</td>\n",
       "      <td>...</td>\n",
       "      <td>...</td>\n",
       "      <td>...</td>\n",
       "      <td>...</td>\n",
       "      <td>...</td>\n",
       "    </tr>\n",
       "    <tr>\n",
       "      <th>328</th>\n",
       "      <td></td>\n",
       "      <td>NaN</td>\n",
       "      <td>11/2</td>\n",
       "      <td>96382.06</td>\n",
       "      <td>1.230</td>\n",
       "      <td>100.0</td>\n",
       "      <td>NaN</td>\n",
       "      <td>None</td>\n",
       "      <td>NaN</td>\n",
       "      <td>2889461467450348.0</td>\n",
       "    </tr>\n",
       "    <tr>\n",
       "      <th>329</th>\n",
       "      <td></td>\n",
       "      <td>NaN</td>\n",
       "      <td>9/2</td>\n",
       "      <td>96482.44</td>\n",
       "      <td>NaN</td>\n",
       "      <td>100.0</td>\n",
       "      <td>NaN</td>\n",
       "      <td>None</td>\n",
       "      <td>NaN</td>\n",
       "      <td>2892470784143752.0</td>\n",
       "    </tr>\n",
       "    <tr>\n",
       "      <th>330</th>\n",
       "      <td></td>\n",
       "      <td>NaN</td>\n",
       "      <td>11/2</td>\n",
       "      <td>96898.03</td>\n",
       "      <td>NaN</td>\n",
       "      <td>100.0</td>\n",
       "      <td>NaN</td>\n",
       "      <td>None</td>\n",
       "      <td>NaN</td>\n",
       "      <td>2904929858905774.0</td>\n",
       "    </tr>\n",
       "    <tr>\n",
       "      <th>331</th>\n",
       "      <td></td>\n",
       "      <td>NaN</td>\n",
       "      <td>13/2</td>\n",
       "      <td>97043.28</td>\n",
       "      <td>NaN</td>\n",
       "      <td>100.0</td>\n",
       "      <td>NaN</td>\n",
       "      <td>None</td>\n",
       "      <td>NaN</td>\n",
       "      <td>2909284344358224.0</td>\n",
       "    </tr>\n",
       "    <tr>\n",
       "      <th>332</th>\n",
       "      <td></td>\n",
       "      <td>NaN</td>\n",
       "      <td>9/2</td>\n",
       "      <td>97086.51</td>\n",
       "      <td>NaN</td>\n",
       "      <td>100.0</td>\n",
       "      <td>NaN</td>\n",
       "      <td>None</td>\n",
       "      <td>NaN</td>\n",
       "      <td>2910580347154158.0</td>\n",
       "    </tr>\n",
       "  </tbody>\n",
       "</table>\n",
       "<p>333 rows × 10 columns</p>\n",
       "</div>"
      ],
      "text/plain": [
       "      Configuration Term     J Level (cm-1)  Lande  Percentage  Percentage_2  \\\n",
       "0           4f14.6s   2S   1/2          0.0  1.998       100.0           NaN   \n",
       "1    4f13.(2F*).6s2  2F*   7/2     21418.75  1.145        98.0           1.0   \n",
       "2    4f13.(2F*).6s2  2F*   5/2     31568.08  0.862        90.0           7.0   \n",
       "3           4f14.5d   2D   3/2      22960.8  1.802       100.0           NaN   \n",
       "4           4f14.5d   2D   5/2     24332.69  1.202       100.0           NaN   \n",
       "..              ...  ...   ...          ...    ...         ...           ...   \n",
       "328                  NaN  11/2     96382.06  1.230       100.0           NaN   \n",
       "329                  NaN   9/2     96482.44    NaN       100.0           NaN   \n",
       "330                  NaN  11/2     96898.03    NaN       100.0           NaN   \n",
       "331                  NaN  13/2     97043.28    NaN       100.0           NaN   \n",
       "332                  NaN   9/2     97086.51    NaN       100.0           NaN   \n",
       "\n",
       "               Configuration_2   Term_2          Level (Hz)  \n",
       "0                         None      NaN                 0.0  \n",
       "1     4f13.(2F*<7/2>).5d2.(1S)  1[7/2]*   642117970978750.0  \n",
       "2    4f13.(2F*<7/2>)5d.6s.(3D)  3[7/2]*   946387229754064.0  \n",
       "3                         None      NaN   688347466964640.0  \n",
       "4                         None      NaN   729475694485202.0  \n",
       "..                         ...      ...                 ...  \n",
       "328                       None      NaN  2889461467450348.0  \n",
       "329                       None      NaN  2892470784143752.0  \n",
       "330                       None      NaN  2904929858905774.0  \n",
       "331                       None      NaN  2909284344358224.0  \n",
       "332                       None      NaN  2910580347154158.0  \n",
       "\n",
       "[333 rows x 10 columns]"
      ]
     },
     "metadata": {},
     "output_type": "display_data"
    },
    {
     "name": "stderr",
     "output_type": "stream",
     "text": [
      "adding level 4f13.(2F*<7/2>).5d.6s.(3D) 3[9/2]*7/2                                                                     \n",
      "adding transition 4f14.5d 2D3/2 → 4f14.6p 2P*1/2                                                                       \n",
      "adding internal transitions to 4f13.(2F*<7/2>).5d.6s.(3D) 3[9/2]*7/2                                                   "
     ]
    },
    {
     "name": "stdout",
     "output_type": "stream",
     "text": [
      "Generation complete\n"
     ]
    },
    {
     "name": "stderr",
     "output_type": "stream",
     "text": [
      "\n"
     ]
    }
   ],
   "source": [
    "# whether to load from pickle\n",
    "load = False\n",
    "# whether to save the ion\n",
    "save = False\n",
    "# Name of the atom\n",
    "species = '173Yb'\n",
    "# Number of levels to generate\n",
    "num_levels = 20\n",
    "# Magnetic field\n",
    "B = Q_(5.0, 'G')\n",
    "\n",
    "a = load_atom(species, load=load, save=save, num_levels=num_levels, B=B)"
   ]
  },
  {
   "cell_type": "code",
   "execution_count": 5,
   "id": "b59e6d96-1f63-4277-903d-3a4989876c2c",
   "metadata": {
    "tags": []
   },
   "outputs": [],
   "source": [
    "# pprint(a.levels.list_names())"
   ]
  },
  {
   "cell_type": "code",
   "execution_count": 7,
   "id": "ec88930f-0feb-495a-959a-e23752b60f38",
   "metadata": {},
   "outputs": [],
   "source": [
    "# pprint(a.transitions.list_names())"
   ]
  },
  {
   "cell_type": "code",
   "execution_count": 8,
   "id": "9b9e3672-dd39-472d-8c25-cbaf07327a28",
   "metadata": {},
   "outputs": [],
   "source": [
    "a.transitions[('4f14.5d 2D3/2', '4f13.(2F*<7/2>).5d.6s.(3D) 3[3/2]*1/2')].set_frequency(Q_(320.570339, 'THz'))\n",
    "a.transitions[('4f14.6s 2S1/2', '4f14.6p 2P*1/2')].set_frequency(Q_(812.128235, 'THz'))"
   ]
  },
  {
   "cell_type": "code",
   "execution_count": 6,
   "id": "e191aff8-e732-451b-81e8-c78d7c1a314f",
   "metadata": {},
   "outputs": [],
   "source": [
    "# plt.figure(figsize=(20, 10))\n",
    "# draw_levels(a)"
   ]
  },
  {
   "cell_type": "code",
   "execution_count": 11,
   "id": "f8ea3af0-1c97-4b93-a41a-2b6569581c14",
   "metadata": {},
   "outputs": [
    {
     "data": {
      "text/plain": [
       "{'4f14.6s 2S1/2': 0.987698986975398,\n",
       " '4f14.5d 2D3/2': 0.002098408104196816,\n",
       " '4f14.5d 2D5/2': 0.010202604920405211}"
      ]
     },
     "execution_count": 11,
     "metadata": {},
     "output_type": "execute_result"
    }
   ],
   "source": [
    "a.compute_branching_ratios('4f14.6p 2P*3/2')"
   ]
  },
  {
   "cell_type": "code",
   "execution_count": 38,
   "id": "18fe1c13-7e73-406d-8c5c-dbe753481a3f",
   "metadata": {},
   "outputs": [
    {
     "data": {
      "text/plain": [
       "{'4f14.6s 2S1/2': Transition(4f14.6s 2S1/2 → 4f14.6p 2P*3/2, freq=911136133580133.9 hertz, A=136.5,\n",
       " '4f14.5d 2D3/2': Transition(4f14.5d 2D3/2 → 4f14.6p 2P*3/2, freq=222788666615493.88 hertz, A=0.29,\n",
       " '4f14.5d 2D5/2': Transition(4f14.5d 2D5/2 → 4f14.6p 2P*3/2, freq=181660439094931.88 hertz, A=1.41}"
      ]
     },
     "execution_count": 38,
     "metadata": {},
     "output_type": "execute_result"
    }
   ],
   "source": [
    "a.linked_levels('4f14.6p 2P*3/2')"
   ]
  },
  {
   "cell_type": "code",
   "execution_count": 39,
   "id": "c005a184-1d19-496d-8f6a-8091402280bd",
   "metadata": {},
   "outputs": [
    {
     "data": {
      "text/html": [
       "1345.6360350565105 nanometer"
      ],
      "text/latex": [
       "$1345.6360350565105\\ \\mathrm{nanometer}$"
      ],
      "text/plain": [
       "1345.6360350565105 <Unit('nanometer')>"
      ]
     },
     "execution_count": 39,
     "metadata": {},
     "output_type": "execute_result"
    }
   ],
   "source": [
    "a.transitions[('4f14.6p 2P*3/2', '4f14.5d 2D3/2')].wl"
   ]
  },
  {
   "cell_type": "code",
   "execution_count": 40,
   "id": "185c7b3b-8619-4f4e-bfe7-c4b8a6dfb5de",
   "metadata": {},
   "outputs": [
    {
     "data": {
      "text/html": [
       "329.0314662662134 nanometer"
      ],
      "text/latex": [
       "$329.0314662662134\\ \\mathrm{nanometer}$"
      ],
      "text/plain": [
       "329.0314662662134 <Unit('nanometer')>"
      ]
     },
     "execution_count": 40,
     "metadata": {},
     "output_type": "execute_result"
    }
   ],
   "source": [
    "a.transitions[('4f14.6p 2P*3/2', '4f14.6s 2S1/2')].wl"
   ]
  },
  {
   "cell_type": "code",
   "execution_count": 41,
   "id": "7d9ea605-232a-45a9-8eed-143d619c5986",
   "metadata": {},
   "outputs": [
    {
     "data": {
      "text/html": [
       "875.4 megahertz"
      ],
      "text/latex": [
       "$875.4\\ \\mathrm{megahertz}$"
      ],
      "text/plain": [
       "875.4 <Unit('megahertz')>"
      ]
     },
     "execution_count": 41,
     "metadata": {},
     "output_type": "execute_result"
    }
   ],
   "source": [
    "a.levels['4f14.6p 2P*3/2'].hfA.to('MHz')"
   ]
  },
  {
   "cell_type": "code",
   "execution_count": 2,
   "id": "f39efb72-5fa6-4a58-b9c0-9a67bc8324b2",
   "metadata": {},
   "outputs": [
    {
     "name": "stderr",
     "output_type": "stream",
     "text": [
      "data finalized: 100%|████████████████████████████████████████████████████████████████████| 7/7 [00:00<00:00, 10.05it/s]\n"
     ]
    },
    {
     "data": {
      "text/plain": [
       "{'terms': [Term(4f13.(2F*).6s2 2F*5/2),\n",
       "  Term(4f13.(2F*<7/2>)5d.6s.(3D) 3[7/2]*5/2)],\n",
       " 'terms_dict': {90.0: Term(4f13.(2F*).6s2 2F*5/2),\n",
       "  7.0: Term(4f13.(2F*<7/2>)5d.6s.(3D) 3[7/2]*5/2)}}"
      ]
     },
     "execution_count": 2,
     "metadata": {},
     "output_type": "execute_result"
    }
   ],
   "source": [
    "import pandas as pd\n",
    "pd.set_option(\"max_colwidth\", 80)\n",
    "pd.set_option(\"max_rows\", 80)\n",
    "\n",
    "df = IO.load_NIST_data('Yb II')\n",
    "\n",
    "from atomtoolkit.atom import MultiTerm\n",
    "\n",
    "M = MultiTerm.from_dataframe(df, 2)\n",
    "\n",
    "M.__dict__"
   ]
  },
  {
   "cell_type": "code",
   "execution_count": 25,
   "id": "90b0e5c9-2092-4eb0-98a5-32451a64cab7",
   "metadata": {},
   "outputs": [],
   "source": [
    "\n",
    "import re\n",
    "def reconstitute_conf(c0, c1):\n",
    "    # grab any info in c0 that has been removed from c1 and put it back where it belongs\n",
    "    if not c1:\n",
    "        return\n",
    "    if re.match(r'\\(.+?\\)\\(.+?\\)', c1):\n",
    "        return re.sub( r'\\((.+?)\\)', '{}',c0).format(*re.findall(r'\\((.+?)\\)', c1))\n",
    "    elif re.match(r'\\(.+?\\).+\\(.+?\\)', c1):\n",
    "        return c0.split('(')[0]+c1\n",
    "    else:\n",
    "        return c1"
   ]
  },
  {
   "cell_type": "code",
   "execution_count": 26,
   "id": "6be613bd-e3ec-4d81-ba16-24223cb97c1b",
   "metadata": {},
   "outputs": [],
   "source": [
    "reconstitute_conf('4f13.(2F*<7/2>).5d.6s.(3D)', None)"
   ]
  },
  {
   "cell_type": "code",
   "execution_count": null,
   "id": "22003bd2-658e-43de-b1c1-f882c7827019",
   "metadata": {},
   "outputs": [],
   "source": []
  }
 ],
 "metadata": {
  "kernelspec": {
   "display_name": "Python 3",
   "language": "python",
   "name": "python3"
  },
  "language_info": {
   "codemirror_mode": {
    "name": "ipython",
    "version": 3
   },
   "file_extension": ".py",
   "mimetype": "text/x-python",
   "name": "python",
   "nbconvert_exporter": "python",
   "pygments_lexer": "ipython3",
   "version": "3.8.3"
  }
 },
 "nbformat": 4,
 "nbformat_minor": 5
}
