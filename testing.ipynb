{
 "cells": [
  {
   "cell_type": "code",
   "execution_count": 80,
   "id": "1c8fc476-f664-4a84-96af-a6669fb69701",
   "metadata": {},
   "outputs": [],
   "source": [
    "import matplotlib.pyplot as plt\n",
    "from atomtoolkit import ureg, Q_, util, IO\n",
    "import atomtoolkit.render.lineshapes as lineshapes\n",
    "from atomtoolkit.atom import Atom, Transition\n",
    "from pprint import pprint\n",
    "import numpy as np"
   ]
  },
  {
   "cell_type": "code",
   "execution_count": 81,
   "id": "7fe5ccf1-8f50-4bce-b31e-17e1e013798f",
   "metadata": {},
   "outputs": [],
   "source": [
    "resource_path = 'resources'\n",
    "\n",
    "speciesdict = {\n",
    "    '171Yb': {'species': 'Yb II', 'I': 0.5, 'trans_path': f\"{resource_path}/Yb_II_Oscillator_Strengths.csv\"},\n",
    "    '171Yb_2': {'species': 'Yb II', 'I': 0.5},\n",
    "    '173Yb': {'species': 'Yb II', 'I': 2.5, 'trans_path': f\"{resource_path}/Yb_II_Oscillator_Strengths.csv\"},\n",
    "    '138Ba': {'species': 'Ba II', 'I': 0.0},\n",
    "    '133Ba': {'species': 'Ba II', 'I': 0.5},\n",
    "    '201Hg': {'species': 'Hg I', 'I': 1.5},\n",
    "    '9Be': {'species': 'Be II', 'I': 1.5}\n",
    "}\n",
    "\n",
    "def load_atom(species, num_levels=None, save=False, B=Q_(0.0, 'G'), load=False, **kwargs):\n",
    "    if load:\n",
    "        a = Atom.load(f'atoms/{species}.atom')\n",
    "    else:\n",
    "        df = IO.load_NIST_data(speciesdict[species]['species'])\n",
    "        if 'trans_path' in speciesdict[species]:\n",
    "            trans_df = IO.load_transition_data(speciesdict[species]['trans_path'], columns={\n",
    "                \"conf_l\": \"LConfiguration\", \"conf_u\": \"UConfiguration\",\n",
    "                \"term_l\": \"LTerm\", \"term_u\": \"UTerm\", \"j_l\": \"LJ\", \"j_u\": \"UJ\",\n",
    "                \"A\": \"A DREAM\"}).dropna(subset=['A'])\n",
    "        else:\n",
    "            trans_df = None\n",
    "        if 'allowed' not in kwargs:\n",
    "            kwargs['allowed'] = (True, False, False)\n",
    "        a = IO.generate_full_from_dataframe(df, species, speciesdict[species]['I'],\n",
    "                                            num_levels=num_levels,\n",
    "                                            B=B,\n",
    "                                            hf_csv=f'{resource_path}/{species}_Hyperfine.csv',\n",
    "                                            transitions_df=trans_df,\n",
    "                                            allowed = kwargs['allowed'])\n",
    "        if save:\n",
    "            a.save(f'atoms/{species}.atom')\n",
    "            a.generate_hf_csv(filename=f'{resource_path}/{species}_Hyperfine.csv')\n",
    "        print('Generation complete')\n",
    "    return a"
   ]
  },
  {
   "cell_type": "code",
   "execution_count": 82,
   "id": "2d245865-93b8-445b-832a-ef578836d36f",
   "metadata": {},
   "outputs": [
    {
     "name": "stderr",
     "output_type": "stream",
     "text": [
      "data finalized: 100%|████████████████████████████████████████████████████████████████████| 7/7 [00:00<00:00,  8.58it/s]\n",
      "adding level 4f13.(2F*<5/2>).5d2.(3F) 3[11/2]*13/2                                                                     \n",
      "adding transition 4f13.(2F*<7/2>).6s.6p.(3P*<0>) (7/2,0)7/2 → 4f13.(2F*<7/2>).5d2.(3F) 3[9/2]*7/2                      \n",
      "adding internal transitions to 4f13.(2F*<5/2>).5d2.(3F) 3[11/2]*13/2                                                   "
     ]
    },
    {
     "name": "stdout",
     "output_type": "stream",
     "text": [
      "Generation complete\n"
     ]
    },
    {
     "name": "stderr",
     "output_type": "stream",
     "text": [
      "\n"
     ]
    }
   ],
   "source": [
    "# whether to load from pickle\n",
    "load = False\n",
    "# whether to save the ion\n",
    "save = False\n",
    "# Name of the atom\n",
    "species = '171Yb'\n",
    "# Number of levels to generate\n",
    "num_levels = 100\n",
    "# Magnetic field\n",
    "B = Q_(5.0, 'G')\n",
    "\n",
    "a = load_atom(species, load=load, save=save, num_levels=num_levels, B=B)"
   ]
  },
  {
   "cell_type": "code",
   "execution_count": 83,
   "id": "b59e6d96-1f63-4277-903d-3a4989876c2c",
   "metadata": {
    "tags": []
   },
   "outputs": [],
   "source": [
    "# pprint(a.levels.list_names())"
   ]
  },
  {
   "cell_type": "code",
   "execution_count": 84,
   "id": "ec88930f-0feb-495a-959a-e23752b60f38",
   "metadata": {},
   "outputs": [],
   "source": [
    "# pprint(a.transitions.list_names())"
   ]
  },
  {
   "cell_type": "code",
   "execution_count": 85,
   "id": "9b9e3672-dd39-472d-8c25-cbaf07327a28",
   "metadata": {},
   "outputs": [],
   "source": [
    "t = Transition(a.levels['4f14.6s 2S1/2'], a.levels['4f14.5d 2D5/2'], A=Q_(22, 'Hz'))\n",
    "t.add_to_atom(a)\n",
    "t.set_frequency(Q_(729.476090, 'THz'))\n",
    "\n",
    "a.transitions[('4f14.5d 2D3/2', '4f13.(2F*<7/2>).5d.6s.(3D) 3[3/2]*1/2')].set_frequency(Q_(320.570339, 'THz'))\n",
    "a.transitions[('4f14.6s 2S1/2', '4f14.6p 2P*1/2')].set_frequency(Q_(812.128235, 'THz'))"
   ]
  },
  {
   "cell_type": "code",
   "execution_count": 86,
   "id": "f8ea3af0-1c97-4b93-a41a-2b6569581c14",
   "metadata": {},
   "outputs": [
    {
     "data": {
      "text/plain": [
       "{'4f14.6s 2S1/2': 0.9876989869753979,\n",
       " '4f14.5d 2D3/2': 0.002098408104196816,\n",
       " '4f14.5d 2D5/2': 0.01020260492040521}"
      ]
     },
     "execution_count": 86,
     "metadata": {},
     "output_type": "execute_result"
    }
   ],
   "source": [
    "a.compute_branching_ratios('4f14.6p 2P*3/2')"
   ]
  },
  {
   "cell_type": "code",
   "execution_count": 87,
   "id": "18fe1c13-7e73-406d-8c5c-dbe753481a3f",
   "metadata": {},
   "outputs": [
    {
     "data": {
      "text/plain": [
       "{'4f14.6s 2S1/2': Transition(4f14.6s 2S1/2 → 4f14.6p 2P*3/2, freq=911136133580133.9 hertz, A=136500000.0 hertz,\n",
       " '4f13.(2F*<7/2>).5d.6p.(3F*<2>) (7/2,2)5/2': Transition(4f14.6p 2P*3/2 → 4f13.(2F*<7/2>).5d.6p.(3F*<2>) (7/2,2)5/2, freq=852350430075830.1 hertz, A=40000.0 hertz,\n",
       " '4f13.(2F*<7/2>).5d.6p.(3F*<2>) (7/2,2)3/2': Transition(4f14.6p 2P*3/2 → 4f13.(2F*<7/2>).5d.6p.(3F*<2>) (7/2,2)3/2, freq=758769914518672.4 hertz, A=2210000.0 hertz,\n",
       " '4f14.7s 2S1/2': Transition(4f14.6p 2P*3/2 → 4f14.7s 2S1/2, freq=716865824116806.4 hertz, A=97000000.0 hertz,\n",
       " '4f13.(2F*<7/2>).6s.6p.(3P*<2>) (7/2,2)5/2': Transition(4f14.6p 2P*3/2 → 4f13.(2F*<7/2>).6s.6p.(3P*<2>) (7/2,2)5/2, freq=689904289199033.9 hertz, A=320000.0 hertz,\n",
       " '4f13.(2F*<7/2>).6s.6p.(3P*<2>) (7/2,2)3/2': Transition(4f14.6p 2P*3/2 → 4f13.(2F*<7/2>).6s.6p.(3P*<2>) (7/2,2)3/2, freq=675905480372724.1 hertz, A=610000.0 hertz,\n",
       " '4f14.5d 2D3/2': Transition(4f14.5d 2D3/2 → 4f14.6p 2P*3/2, freq=222788666615493.88 hertz, A=290000.0 hertz,\n",
       " '4f14.5d 2D5/2': Transition(4f14.5d 2D5/2 → 4f14.6p 2P*3/2, freq=181660043580133.88 hertz, A=1410000.0 hertz}"
      ]
     },
     "execution_count": 87,
     "metadata": {},
     "output_type": "execute_result"
    }
   ],
   "source": [
    "a.linked_levels('4f14.6p 2P*3/2')"
   ]
  },
  {
   "cell_type": "code",
   "execution_count": 88,
   "id": "58571582-fc73-474f-b85f-07e274df510d",
   "metadata": {},
   "outputs": [
    {
     "data": {
      "text/plain": [
       "dict_values([HFLevel(name = 4f13.(2F*).6s2 2F*7/2 F=3, level=642115934728750.0 hertz, 7 sublevels), HFLevel(name = 4f13.(2F*).6s2 2F*7/2 F=4, level=642119554728750.0 hertz, 9 sublevels)])"
      ]
     },
     "execution_count": 88,
     "metadata": {},
     "output_type": "execute_result"
    }
   ],
   "source": [
    "a.levels['4f13.(2F*).6s2 2F*7/2'].sublevels()"
   ]
  },
  {
   "cell_type": "code",
   "execution_count": 89,
   "id": "c005a184-1d19-496d-8f6a-8091402280bd",
   "metadata": {},
   "outputs": [
    {
     "data": {
      "text/html": [
       "80500000.0 hertz"
      ],
      "text/latex": [
       "$80500000.0\\ \\mathrm{hertz}$"
      ],
      "text/plain": [
       "80500000.0 <Unit('hertz')>"
      ]
     },
     "execution_count": 89,
     "metadata": {},
     "output_type": "execute_result"
    }
   ],
   "source": [
    "a.transitions[('4f14.6s 2S1/2', '4f13.(2F*<7/2>).5d2.(3F) 3[3/2]*1/2')].A"
   ]
  },
  {
   "cell_type": "code",
   "execution_count": 92,
   "id": "743384ec-fd15-4203-ab90-180a7675a60b",
   "metadata": {},
   "outputs": [
    {
     "data": {
      "text/html": [
       "2259.7456466625717 nanometer"
      ],
      "text/latex": [
       "$2259.7456466625717\\ \\mathrm{nanometer}$"
      ],
      "text/plain": [
       "2259.7456466625717 <Unit('nanometer')>"
      ]
     },
     "execution_count": 92,
     "metadata": {},
     "output_type": "execute_result"
    }
   ],
   "source": [
    "a.transitions[('4f14.5d 2D5/2', '4f13.(2F*<7/2>).5d.6s.(3D) 3[3/2]*3/2')].wl"
   ]
  },
  {
   "cell_type": "code",
   "execution_count": 72,
   "id": "7d9ea605-232a-45a9-8eed-143d619c5986",
   "metadata": {},
   "outputs": [
    {
     "data": {
      "text/plain": [
       "1.44"
      ]
     },
     "execution_count": 72,
     "metadata": {},
     "output_type": "execute_result"
    }
   ],
   "source": [
    "a.levels['4f13.(2F*<7/2>).5d.6s.(3D) 3[3/2]*3/2'].lande"
   ]
  }
 ],
 "metadata": {
  "kernelspec": {
   "display_name": "Python 3",
   "language": "python",
   "name": "python3"
  },
  "language_info": {
   "codemirror_mode": {
    "name": "ipython",
    "version": 3
   },
   "file_extension": ".py",
   "mimetype": "text/x-python",
   "name": "python",
   "nbconvert_exporter": "python",
   "pygments_lexer": "ipython3",
   "version": "3.8.3"
  }
 },
 "nbformat": 4,
 "nbformat_minor": 5
}
